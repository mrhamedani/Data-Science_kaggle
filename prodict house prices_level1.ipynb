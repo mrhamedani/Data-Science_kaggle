{
 "cells": [
  {
   "cell_type": "code",
   "execution_count": 1,
   "id": "d88f48bf",
   "metadata": {
    "_cell_guid": "b1076dfc-b9ad-4769-8c92-a6c4dae69d19",
    "_uuid": "8f2839f25d086af736a60e9eeb907d3b93b6e0e5",
    "execution": {
     "iopub.execute_input": "2024-12-11T10:22:37.349334Z",
     "iopub.status.busy": "2024-12-11T10:22:37.348343Z",
     "iopub.status.idle": "2024-12-11T10:22:39.808273Z",
     "shell.execute_reply": "2024-12-11T10:22:39.807134Z"
    },
    "papermill": {
     "duration": 2.46742,
     "end_time": "2024-12-11T10:22:39.810733",
     "exception": false,
     "start_time": "2024-12-11T10:22:37.343313",
     "status": "completed"
    },
    "tags": []
   },
   "outputs": [
    {
     "name": "stdout",
     "output_type": "stream",
     "text": [
      "/kaggle/input/house-prices/house-prices.csv\n"
     ]
    }
   ],
   "source": [
    "import numpy as np \n",
    "import pandas as pd \n",
    "from sklearn.linear_model import LinearRegression\n",
    "from sklearn.model_selection import train_test_split\n",
    "from sklearn.metrics import mean_squared_error\n",
    "\n",
    "import os\n",
    "for dirname, _, filenames in os.walk('/kaggle/input'):\n",
    "    for filename in filenames:\n",
    "        print(os.path.join(dirname, filename))\n"
   ]
  },
  {
   "cell_type": "code",
   "execution_count": 2,
   "id": "16310812",
   "metadata": {
    "execution": {
     "iopub.execute_input": "2024-12-11T10:22:39.818408Z",
     "iopub.status.busy": "2024-12-11T10:22:39.817812Z",
     "iopub.status.idle": "2024-12-11T10:22:39.916087Z",
     "shell.execute_reply": "2024-12-11T10:22:39.914994Z"
    },
    "papermill": {
     "duration": 0.104731,
     "end_time": "2024-12-11T10:22:39.918584",
     "exception": false,
     "start_time": "2024-12-11T10:22:39.813853",
     "status": "completed"
    },
    "tags": []
   },
   "outputs": [],
   "source": [
    "file_path = '/kaggle/input/house-prices/house-prices.csv'  \n",
    "p = pd.read_csv(file_path)\n"
   ]
  },
  {
   "cell_type": "code",
   "execution_count": 3,
   "id": "4c881b99",
   "metadata": {
    "execution": {
     "iopub.execute_input": "2024-12-11T10:22:39.925972Z",
     "iopub.status.busy": "2024-12-11T10:22:39.925550Z",
     "iopub.status.idle": "2024-12-11T10:22:39.943292Z",
     "shell.execute_reply": "2024-12-11T10:22:39.942207Z"
    },
    "papermill": {
     "duration": 0.024151,
     "end_time": "2024-12-11T10:22:39.945721",
     "exception": false,
     "start_time": "2024-12-11T10:22:39.921570",
     "status": "completed"
    },
    "tags": []
   },
   "outputs": [],
   "source": [
    "target= p[\"Price\"]\n",
    "feature = p[[\"SqFt\",\"Bedrooms\",\"Bathrooms\"]]\n",
    "x_train,x_test,y_train,y_test=train_test_split(feature,target,test_size=0.33,shuffle=False)\n"
   ]
  },
  {
   "cell_type": "code",
   "execution_count": 4,
   "id": "b5704959",
   "metadata": {
    "execution": {
     "iopub.execute_input": "2024-12-11T10:22:39.952710Z",
     "iopub.status.busy": "2024-12-11T10:22:39.952333Z",
     "iopub.status.idle": "2024-12-11T10:22:39.983964Z",
     "shell.execute_reply": "2024-12-11T10:22:39.982866Z"
    },
    "papermill": {
     "duration": 0.037647,
     "end_time": "2024-12-11T10:22:39.986177",
     "exception": false,
     "start_time": "2024-12-11T10:22:39.948530",
     "status": "completed"
    },
    "tags": []
   },
   "outputs": [
    {
     "data": {
      "text/html": [
       "<style>#sk-container-id-1 {color: black;background-color: white;}#sk-container-id-1 pre{padding: 0;}#sk-container-id-1 div.sk-toggleable {background-color: white;}#sk-container-id-1 label.sk-toggleable__label {cursor: pointer;display: block;width: 100%;margin-bottom: 0;padding: 0.3em;box-sizing: border-box;text-align: center;}#sk-container-id-1 label.sk-toggleable__label-arrow:before {content: \"▸\";float: left;margin-right: 0.25em;color: #696969;}#sk-container-id-1 label.sk-toggleable__label-arrow:hover:before {color: black;}#sk-container-id-1 div.sk-estimator:hover label.sk-toggleable__label-arrow:before {color: black;}#sk-container-id-1 div.sk-toggleable__content {max-height: 0;max-width: 0;overflow: hidden;text-align: left;background-color: #f0f8ff;}#sk-container-id-1 div.sk-toggleable__content pre {margin: 0.2em;color: black;border-radius: 0.25em;background-color: #f0f8ff;}#sk-container-id-1 input.sk-toggleable__control:checked~div.sk-toggleable__content {max-height: 200px;max-width: 100%;overflow: auto;}#sk-container-id-1 input.sk-toggleable__control:checked~label.sk-toggleable__label-arrow:before {content: \"▾\";}#sk-container-id-1 div.sk-estimator input.sk-toggleable__control:checked~label.sk-toggleable__label {background-color: #d4ebff;}#sk-container-id-1 div.sk-label input.sk-toggleable__control:checked~label.sk-toggleable__label {background-color: #d4ebff;}#sk-container-id-1 input.sk-hidden--visually {border: 0;clip: rect(1px 1px 1px 1px);clip: rect(1px, 1px, 1px, 1px);height: 1px;margin: -1px;overflow: hidden;padding: 0;position: absolute;width: 1px;}#sk-container-id-1 div.sk-estimator {font-family: monospace;background-color: #f0f8ff;border: 1px dotted black;border-radius: 0.25em;box-sizing: border-box;margin-bottom: 0.5em;}#sk-container-id-1 div.sk-estimator:hover {background-color: #d4ebff;}#sk-container-id-1 div.sk-parallel-item::after {content: \"\";width: 100%;border-bottom: 1px solid gray;flex-grow: 1;}#sk-container-id-1 div.sk-label:hover label.sk-toggleable__label {background-color: #d4ebff;}#sk-container-id-1 div.sk-serial::before {content: \"\";position: absolute;border-left: 1px solid gray;box-sizing: border-box;top: 0;bottom: 0;left: 50%;z-index: 0;}#sk-container-id-1 div.sk-serial {display: flex;flex-direction: column;align-items: center;background-color: white;padding-right: 0.2em;padding-left: 0.2em;position: relative;}#sk-container-id-1 div.sk-item {position: relative;z-index: 1;}#sk-container-id-1 div.sk-parallel {display: flex;align-items: stretch;justify-content: center;background-color: white;position: relative;}#sk-container-id-1 div.sk-item::before, #sk-container-id-1 div.sk-parallel-item::before {content: \"\";position: absolute;border-left: 1px solid gray;box-sizing: border-box;top: 0;bottom: 0;left: 50%;z-index: -1;}#sk-container-id-1 div.sk-parallel-item {display: flex;flex-direction: column;z-index: 1;position: relative;background-color: white;}#sk-container-id-1 div.sk-parallel-item:first-child::after {align-self: flex-end;width: 50%;}#sk-container-id-1 div.sk-parallel-item:last-child::after {align-self: flex-start;width: 50%;}#sk-container-id-1 div.sk-parallel-item:only-child::after {width: 0;}#sk-container-id-1 div.sk-dashed-wrapped {border: 1px dashed gray;margin: 0 0.4em 0.5em 0.4em;box-sizing: border-box;padding-bottom: 0.4em;background-color: white;}#sk-container-id-1 div.sk-label label {font-family: monospace;font-weight: bold;display: inline-block;line-height: 1.2em;}#sk-container-id-1 div.sk-label-container {text-align: center;}#sk-container-id-1 div.sk-container {/* jupyter's `normalize.less` sets `[hidden] { display: none; }` but bootstrap.min.css set `[hidden] { display: none !important; }` so we also need the `!important` here to be able to override the default hidden behavior on the sphinx rendered scikit-learn.org. See: https://github.com/scikit-learn/scikit-learn/issues/21755 */display: inline-block !important;position: relative;}#sk-container-id-1 div.sk-text-repr-fallback {display: none;}</style><div id=\"sk-container-id-1\" class=\"sk-top-container\"><div class=\"sk-text-repr-fallback\"><pre>LinearRegression()</pre><b>In a Jupyter environment, please rerun this cell to show the HTML representation or trust the notebook. <br />On GitHub, the HTML representation is unable to render, please try loading this page with nbviewer.org.</b></div><div class=\"sk-container\" hidden><div class=\"sk-item\"><div class=\"sk-estimator sk-toggleable\"><input class=\"sk-toggleable__control sk-hidden--visually\" id=\"sk-estimator-id-1\" type=\"checkbox\" checked><label for=\"sk-estimator-id-1\" class=\"sk-toggleable__label sk-toggleable__label-arrow\">LinearRegression</label><div class=\"sk-toggleable__content\"><pre>LinearRegression()</pre></div></div></div></div></div>"
      ],
      "text/plain": [
       "LinearRegression()"
      ]
     },
     "execution_count": 4,
     "metadata": {},
     "output_type": "execute_result"
    }
   ],
   "source": [
    "lin_reg=LinearRegression()\n",
    "lin_reg.fit(x_train,y_train)\n"
   ]
  },
  {
   "cell_type": "code",
   "execution_count": 5,
   "id": "b6b23539",
   "metadata": {
    "execution": {
     "iopub.execute_input": "2024-12-11T10:22:39.993679Z",
     "iopub.status.busy": "2024-12-11T10:22:39.993308Z",
     "iopub.status.idle": "2024-12-11T10:22:40.000559Z",
     "shell.execute_reply": "2024-12-11T10:22:39.999462Z"
    },
    "papermill": {
     "duration": 0.013264,
     "end_time": "2024-12-11T10:22:40.002543",
     "exception": false,
     "start_time": "2024-12-11T10:22:39.989279",
     "status": "completed"
    },
    "tags": []
   },
   "outputs": [],
   "source": [
    "y_predict=lin_reg.predict(x_test)\n",
    "mse=mean_squared_error(y_predict,y_test)"
   ]
  },
  {
   "cell_type": "code",
   "execution_count": 6,
   "id": "3106f312",
   "metadata": {
    "execution": {
     "iopub.execute_input": "2024-12-11T10:22:40.010894Z",
     "iopub.status.busy": "2024-12-11T10:22:40.009892Z",
     "iopub.status.idle": "2024-12-11T10:22:40.017062Z",
     "shell.execute_reply": "2024-12-11T10:22:40.015711Z"
    },
    "papermill": {
     "duration": 0.013409,
     "end_time": "2024-12-11T10:22:40.019111",
     "exception": false,
     "start_time": "2024-12-11T10:22:40.005702",
     "status": "completed"
    },
    "tags": []
   },
   "outputs": [
    {
     "data": {
      "text/plain": [
       "21919.174288659113"
      ]
     },
     "execution_count": 6,
     "metadata": {},
     "output_type": "execute_result"
    }
   ],
   "source": [
    "np.sqrt(mse)"
   ]
  },
  {
   "cell_type": "code",
   "execution_count": 7,
   "id": "64a3d6ea",
   "metadata": {
    "execution": {
     "iopub.execute_input": "2024-12-11T10:22:40.026599Z",
     "iopub.status.busy": "2024-12-11T10:22:40.026242Z",
     "iopub.status.idle": "2024-12-11T10:22:40.040055Z",
     "shell.execute_reply": "2024-12-11T10:22:40.038978Z"
    },
    "papermill": {
     "duration": 0.019937,
     "end_time": "2024-12-11T10:22:40.042208",
     "exception": false,
     "start_time": "2024-12-11T10:22:40.022271",
     "status": "completed"
    },
    "tags": []
   },
   "outputs": [
    {
     "data": {
      "text/plain": [
       "count       128.000000\n",
       "mean     130427.343750\n",
       "std       26868.770371\n",
       "min       69100.000000\n",
       "25%      111325.000000\n",
       "50%      125950.000000\n",
       "75%      148250.000000\n",
       "max      211200.000000\n",
       "Name: Price, dtype: float64"
      ]
     },
     "execution_count": 7,
     "metadata": {},
     "output_type": "execute_result"
    }
   ],
   "source": [
    "target.describe()"
   ]
  },
  {
   "cell_type": "code",
   "execution_count": 8,
   "id": "422b69c3",
   "metadata": {
    "execution": {
     "iopub.execute_input": "2024-12-11T10:22:40.050118Z",
     "iopub.status.busy": "2024-12-11T10:22:40.049713Z",
     "iopub.status.idle": "2024-12-11T10:22:40.053954Z",
     "shell.execute_reply": "2024-12-11T10:22:40.053005Z"
    },
    "papermill": {
     "duration": 0.01059,
     "end_time": "2024-12-11T10:22:40.055961",
     "exception": false,
     "start_time": "2024-12-11T10:22:40.045371",
     "status": "completed"
    },
    "tags": []
   },
   "outputs": [],
   "source": [
    "#Result: the closer mse is to male std, the better"
   ]
  },
  {
   "cell_type": "code",
   "execution_count": 9,
   "id": "b4533dfe",
   "metadata": {
    "execution": {
     "iopub.execute_input": "2024-12-11T10:22:40.066077Z",
     "iopub.status.busy": "2024-12-11T10:22:40.065343Z",
     "iopub.status.idle": "2024-12-11T10:22:40.074940Z",
     "shell.execute_reply": "2024-12-11T10:22:40.073654Z"
    },
    "papermill": {
     "duration": 0.017858,
     "end_time": "2024-12-11T10:22:40.077103",
     "exception": false,
     "start_time": "2024-12-11T10:22:40.059245",
     "status": "completed"
    },
    "tags": []
   },
   "outputs": [
    {
     "name": "stderr",
     "output_type": "stream",
     "text": [
      "/opt/conda/lib/python3.10/site-packages/sklearn/base.py:439: UserWarning: X does not have valid feature names, but LinearRegression was fitted with feature names\n",
      "  warnings.warn(\n"
     ]
    },
    {
     "data": {
      "text/plain": [
       "array([115298.2610129])"
      ]
     },
     "execution_count": 9,
     "metadata": {},
     "output_type": "execute_result"
    }
   ],
   "source": [
    "lin_reg.predict([[2070,2,2]])\n",
    "# Example: price prediction using square footage and bedrooms and bathrooms"
   ]
  },
  {
   "cell_type": "code",
   "execution_count": null,
   "id": "bdfa9441",
   "metadata": {
    "papermill": {
     "duration": 0.00309,
     "end_time": "2024-12-11T10:22:40.083591",
     "exception": false,
     "start_time": "2024-12-11T10:22:40.080501",
     "status": "completed"
    },
    "tags": []
   },
   "outputs": [],
   "source": []
  }
 ],
 "metadata": {
  "kaggle": {
   "accelerator": "none",
   "dataSources": [
    {
     "datasetId": 6279465,
     "sourceId": 10168192,
     "sourceType": "datasetVersion"
    }
   ],
   "dockerImageVersionId": 30804,
   "isGpuEnabled": false,
   "isInternetEnabled": false,
   "language": "python",
   "sourceType": "notebook"
  },
  "kernelspec": {
   "display_name": "Python 3",
   "language": "python",
   "name": "python3"
  },
  "language_info": {
   "codemirror_mode": {
    "name": "ipython",
    "version": 3
   },
   "file_extension": ".py",
   "mimetype": "text/x-python",
   "name": "python",
   "nbconvert_exporter": "python",
   "pygments_lexer": "ipython3",
   "version": "3.10.14"
  },
  "papermill": {
   "default_parameters": {},
   "duration": 6.130696,
   "end_time": "2024-12-11T10:22:40.710511",
   "environment_variables": {},
   "exception": null,
   "input_path": "__notebook__.ipynb",
   "output_path": "__notebook__.ipynb",
   "parameters": {},
   "start_time": "2024-12-11T10:22:34.579815",
   "version": "2.6.0"
  }
 },
 "nbformat": 4,
 "nbformat_minor": 5
}
