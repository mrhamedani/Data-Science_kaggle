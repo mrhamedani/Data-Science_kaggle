{
  "nbformat": 4,
  "nbformat_minor": 0,
  "metadata": {
    "colab": {
      "provenance": [],
      "authorship_tag": "ABX9TyN97Ti6tpg9bPQTwbLcBr4U",
      "include_colab_link": true
    },
    "kernelspec": {
      "name": "python3",
      "display_name": "Python 3"
    },
    "language_info": {
      "name": "python"
    }
  },
  "cells": [
    {
      "cell_type": "markdown",
      "metadata": {
        "id": "view-in-github",
        "colab_type": "text"
      },
      "source": [
        "<a href=\"https://colab.research.google.com/github/mrhamedani/Machine-learning-projects-ScikitLearn/blob/main/4_breast_cancer_GrideSearch.ipynb\" target=\"_parent\"><img src=\"https://colab.research.google.com/assets/colab-badge.svg\" alt=\"Open In Colab\"/></a>"
      ]
    },
    {
      "cell_type": "markdown",
      "source": [
        "# Optimizing SVM with GridSearchCV on the Breast Cancer Dataset\n",
        "This project demonstrates how to optimize a Support Vector Machine (SVM) model using GridSearchCV on the Breast Cancer Dataset from scikit-learn. The goal is to find the best hyperparameters for the SVM model using cross-validation to improve classification accuracy."
      ],
      "metadata": {
        "id": "wnP_2ukUlSBA"
      }
    },
    {
      "cell_type": "code",
      "execution_count": 37,
      "metadata": {
        "id": "l-rcNmEGJVwO"
      },
      "outputs": [],
      "source": [
        "import numpy as np\n",
        "import pandas as pd\n",
        "from sklearn.model_selection import cross_validate\n",
        "from sklearn.svm import SVC\n",
        "from sklearn.metrics import accuracy_score\n",
        "from sklearn.model_selection import GridSearchCV ,cross_validate\n",
        "from sklearn import datasets\n",
        "from sklearn.preprocessing import StandardScaler"
      ]
    },
    {
      "cell_type": "code",
      "source": [
        "x,y = datasets.load_breast_cancer(return_X_y=True) #The dataset is ready for scikit learn\n",
        "print(x.shape)\n",
        "print(y.shape)"
      ],
      "metadata": {
        "colab": {
          "base_uri": "https://localhost:8080/"
        },
        "id": "TBETC7TMbH8x",
        "outputId": "42cf2d59-cb35-4632-9f25-40411e864ddc"
      },
      "execution_count": 7,
      "outputs": [
        {
          "output_type": "stream",
          "name": "stdout",
          "text": [
            "(569, 30)\n",
            "(569,)\n"
          ]
        }
      ]
    },
    {
      "cell_type": "code",
      "source": [
        "scaler = StandardScaler()\n",
        "x = scaler.fit_transform(x) # standardize the data"
      ],
      "metadata": {
        "id": "e9u5cA6toAu7"
      },
      "execution_count": 41,
      "outputs": []
    },
    {
      "cell_type": "markdown",
      "source": [
        "# cross_validate & k-fold\n",
        "Here we use the model using the cross_validate method\n",
        "Also, instead of using train-test-split, we use k-fold, which is a better method and divides the data into k numbers (also k times)."
      ],
      "metadata": {
        "id": "Q49ZjIafo7pF"
      }
    },
    {
      "cell_type": "code",
      "source": [
        "result1 = cross_validate(SVC(),x,y,cv=5,scoring='accuracy') # SVC is the model  #cv is the number of folds #scoring is the metric\n",
        "print(result1['test_score']) #the accuracy of each fold\n",
        "print(np.mean(result1['test_score'])) #the average accuracy"
      ],
      "metadata": {
        "colab": {
          "base_uri": "https://localhost:8080/"
        },
        "id": "6_v7otHNm8D0",
        "outputId": "f9d01cbb-8314-455b-acd3-d39f6fe5fc2b"
      },
      "execution_count": 43,
      "outputs": [
        {
          "output_type": "stream",
          "name": "stdout",
          "text": [
            "[0.97368421 0.95614035 1.         0.96491228 0.97345133]\n",
            "0.9736376339077782\n"
          ]
        }
      ]
    },
    {
      "cell_type": "markdown",
      "source": [
        "## GridSearchCV & hayperparameters & kernel\n",
        " kernel choice:  \n",
        "- 'rbf' (default, for data with complex and unknown structure)  \n",
        "- 'poly' (for data with polynomial relationships)  \n",
        "- 'linear' (for linearly separable data)  \n",
        "- 'sigmoid' (for neural network-like behavior)  \n",
        "\n",
        "\n",
        "hayperparameters:\n",
        "(Of course, there are other cases that we will examine here)\n",
        "- 'C' (regularization parameter, controls trade-off between margin and misclassification-soft margin or hard margin)   \n",
        "- 'degree' (only for 'poly' kernel, defines polynomial degree)\n",
        "- 'gamma' (kernel coefficient, affects influence of a single data point)\n",
        "\n",
        "GridSearchCV:\n",
        "A method like cross_validate with the difference that it selects the best among the available options for hyperparameters.\n",
        "  \n",
        "\n",
        "\n"
      ],
      "metadata": {
        "id": "iChAUyUCgHbb"
      }
    },
    {
      "cell_type": "code",
      "source": [
        "hayperparameters = {'C':[30,60,90,100,120],'degree':[1,2,3,4],'gamma': [0.001, 0.01, 0.1, 1, 10],'kernel': ['rbf', 'poly']}\n",
        "result2= GridSearchCV(SVC(),hayperparameters,cv=5,verbose=3)\n",
        "\n",
        "result2.fit(x,y)"
      ],
      "metadata": {
        "id": "RsLgLetudv36"
      },
      "execution_count": null,
      "outputs": []
    },
    {
      "cell_type": "code",
      "source": [
        "print(result2.best_params_)\n",
        "print(result2.best_score_)"
      ],
      "metadata": {
        "colab": {
          "base_uri": "https://localhost:8080/"
        },
        "id": "AJSQuE1zfQhq",
        "outputId": "5f500103-1b90-4c5e-d291-6b75b2ace0b8"
      },
      "execution_count": 53,
      "outputs": [
        {
          "output_type": "stream",
          "name": "stdout",
          "text": [
            "{'C': 30, 'degree': 1, 'gamma': 0.01, 'kernel': 'rbf'}\n",
            "0.9807017543859649\n"
          ]
        }
      ]
    }
  ]
}