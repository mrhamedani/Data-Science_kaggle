{
 "cells": [
  {
   "cell_type": "markdown",
   "id": "fcb56950",
   "metadata": {
    "papermill": {
     "duration": 0.003845,
     "end_time": "2024-12-23T20:44:17.223720",
     "exception": false,
     "start_time": "2024-12-23T20:44:17.219875",
     "status": "completed"
    },
    "tags": []
   },
   "source": [
    "# Breast Cancer Prediction using Logistic Regression\n",
    "\n",
    "## Introduction\n",
    "This project aims to predict whether a tumor is malignant (**M**) or benign (**B**) based on clinical and histological data. The dataset used for this analysis is the **Breast Cancer Dataset**, which contains various features extracted from cell nuclei in digital images.\n",
    "\n",
    "## Workflow Overview\n",
    "1. **Data Preprocessing**:\n",
    "   - Handled missing values (if any).\n",
    "   - Encoded categorical variables (e.g., diagnosis as 0 and 1).\n",
    "   - Scaled numerical features to standardize the data.\n",
    "2. **Model Selection**:\n",
    "   - Logistic Regression was chosen for its simplicity and effectiveness in binary classification tasks.\n",
    "3. **Evaluation**:\n",
    "   - Performance was evaluated using metrics such as **Accuracy**, **Confusion Matrix**, and other classification metrics.\n",
    "\n",
    "## Key Objectives\n",
    "- Build a predictive model to classify tumors as malignant or benign.\n",
    "- Assess model performance using various evaluation metrics.\n",
    "- Interpret the key features contributing to model predictions.\n"
   ]
  },
  {
   "cell_type": "code",
   "execution_count": 1,
   "id": "dd63a3f4",
   "metadata": {
    "_cell_guid": "b1076dfc-b9ad-4769-8c92-a6c4dae69d19",
    "_uuid": "8f2839f25d086af736a60e9eeb907d3b93b6e0e5",
    "execution": {
     "iopub.execute_input": "2024-12-23T20:44:17.231674Z",
     "iopub.status.busy": "2024-12-23T20:44:17.231235Z",
     "iopub.status.idle": "2024-12-23T20:44:19.137039Z",
     "shell.execute_reply": "2024-12-23T20:44:19.135512Z"
    },
    "papermill": {
     "duration": 1.911884,
     "end_time": "2024-12-23T20:44:19.138861",
     "exception": false,
     "start_time": "2024-12-23T20:44:17.226977",
     "status": "completed"
    },
    "tags": []
   },
   "outputs": [
    {
     "name": "stdout",
     "output_type": "stream",
     "text": [
      "/kaggle/input/breast-cancer-dataset/breast-cancer.csv\n"
     ]
    }
   ],
   "source": [
    "import numpy as np \n",
    "import pandas as pd \n",
    "from sklearn.linear_model import LogisticRegression\n",
    "from sklearn.model_selection import train_test_split\n",
    "from sklearn.metrics import accuracy_score\n",
    "from sklearn.preprocessing import StandardScaler\n",
    "from sklearn.metrics import confusion_matrix\n",
    "\n",
    "import os\n",
    "for dirname, _, filenames in os.walk('/kaggle/input'):\n",
    "    for filename in filenames:\n",
    "        print(os.path.join(dirname, filename))\n"
   ]
  },
  {
   "cell_type": "code",
   "execution_count": 2,
   "id": "97d07573",
   "metadata": {
    "execution": {
     "iopub.execute_input": "2024-12-23T20:44:19.146884Z",
     "iopub.status.busy": "2024-12-23T20:44:19.146269Z",
     "iopub.status.idle": "2024-12-23T20:44:19.178438Z",
     "shell.execute_reply": "2024-12-23T20:44:19.177144Z"
    },
    "papermill": {
     "duration": 0.038261,
     "end_time": "2024-12-23T20:44:19.180515",
     "exception": false,
     "start_time": "2024-12-23T20:44:19.142254",
     "status": "completed"
    },
    "tags": []
   },
   "outputs": [
    {
     "name": "stdout",
     "output_type": "stream",
     "text": [
      "['M' 'B']\n"
     ]
    }
   ],
   "source": [
    "file_path = '/kaggle/input/breast-cancer-dataset/breast-cancer.csv'  \n",
    "p = pd.read_csv(file_path)\n",
    "print(p['diagnosis'].unique())"
   ]
  },
  {
   "cell_type": "code",
   "execution_count": 3,
   "id": "f289af2f",
   "metadata": {
    "execution": {
     "iopub.execute_input": "2024-12-23T20:44:19.188354Z",
     "iopub.status.busy": "2024-12-23T20:44:19.187903Z",
     "iopub.status.idle": "2024-12-23T20:44:19.202468Z",
     "shell.execute_reply": "2024-12-23T20:44:19.201289Z"
    },
    "papermill": {
     "duration": 0.020375,
     "end_time": "2024-12-23T20:44:19.204221",
     "exception": false,
     "start_time": "2024-12-23T20:44:19.183846",
     "status": "completed"
    },
    "tags": []
   },
   "outputs": [],
   "source": [
    "p['diagnosis'] = p['diagnosis'].map({'M': 1, 'B': 0})\n",
    "features = p.drop('diagnosis', axis=1)"
   ]
  },
  {
   "cell_type": "code",
   "execution_count": 4,
   "id": "4fe3dde0",
   "metadata": {
    "execution": {
     "iopub.execute_input": "2024-12-23T20:44:19.212155Z",
     "iopub.status.busy": "2024-12-23T20:44:19.211692Z",
     "iopub.status.idle": "2024-12-23T20:44:19.226139Z",
     "shell.execute_reply": "2024-12-23T20:44:19.224995Z"
    },
    "papermill": {
     "duration": 0.020539,
     "end_time": "2024-12-23T20:44:19.228076",
     "exception": false,
     "start_time": "2024-12-23T20:44:19.207537",
     "status": "completed"
    },
    "tags": []
   },
   "outputs": [],
   "source": [
    "scaler = StandardScaler()\n",
    "scaled_features = scaler.fit_transform(features)\n",
    "\n",
    "scaled_df = pd.DataFrame(scaled_features, columns=features.columns)\n",
    "scaled_df['diagnosis'] = p['diagnosis']"
   ]
  },
  {
   "cell_type": "code",
   "execution_count": 5,
   "id": "53131937",
   "metadata": {
    "execution": {
     "iopub.execute_input": "2024-12-23T20:44:19.235904Z",
     "iopub.status.busy": "2024-12-23T20:44:19.235495Z",
     "iopub.status.idle": "2024-12-23T20:44:19.247062Z",
     "shell.execute_reply": "2024-12-23T20:44:19.245738Z"
    },
    "papermill": {
     "duration": 0.017373,
     "end_time": "2024-12-23T20:44:19.248763",
     "exception": false,
     "start_time": "2024-12-23T20:44:19.231390",
     "status": "completed"
    },
    "tags": []
   },
   "outputs": [
    {
     "name": "stdout",
     "output_type": "stream",
     "text": [
      "diagnosis                  1.000000\n",
      "concave points_worst       0.793566\n",
      "perimeter_worst            0.782914\n",
      "concave points_mean        0.776614\n",
      "radius_worst               0.776454\n",
      "perimeter_mean             0.742636\n",
      "area_worst                 0.733825\n",
      "radius_mean                0.730029\n",
      "area_mean                  0.708984\n",
      "concavity_mean             0.696360\n",
      "concavity_worst            0.659610\n",
      "compactness_mean           0.596534\n",
      "compactness_worst          0.590998\n",
      "radius_se                  0.567134\n",
      "perimeter_se               0.556141\n",
      "area_se                    0.548236\n",
      "texture_worst              0.456903\n",
      "smoothness_worst           0.421465\n",
      "symmetry_worst             0.416294\n",
      "texture_mean               0.415185\n",
      "concave points_se          0.408042\n",
      "smoothness_mean            0.358560\n",
      "symmetry_mean              0.330499\n",
      "fractal_dimension_worst    0.323872\n",
      "compactness_se             0.292999\n",
      "concavity_se               0.253730\n",
      "fractal_dimension_se       0.077972\n",
      "id                         0.039769\n",
      "symmetry_se               -0.006522\n",
      "texture_se                -0.008303\n",
      "fractal_dimension_mean    -0.012838\n",
      "smoothness_se             -0.067016\n",
      "Name: diagnosis, dtype: float64\n"
     ]
    }
   ],
   "source": [
    "correlation_matrix = scaled_df.corr()\n",
    "print(correlation_matrix['diagnosis'].sort_values(ascending=False))"
   ]
  },
  {
   "cell_type": "code",
   "execution_count": 6,
   "id": "1bf2e64d",
   "metadata": {
    "execution": {
     "iopub.execute_input": "2024-12-23T20:44:19.256652Z",
     "iopub.status.busy": "2024-12-23T20:44:19.256247Z",
     "iopub.status.idle": "2024-12-23T20:44:19.262898Z",
     "shell.execute_reply": "2024-12-23T20:44:19.261416Z"
    },
    "papermill": {
     "duration": 0.012578,
     "end_time": "2024-12-23T20:44:19.264745",
     "exception": false,
     "start_time": "2024-12-23T20:44:19.252167",
     "status": "completed"
    },
    "tags": []
   },
   "outputs": [],
   "source": [
    "new_features=p[[\"concave points_worst\",\"perimeter_worst\",\"concave points_mean\",\"radius_worst\",\"perimeter_mean\",\"area_worst\",\"radius_mean\",\"area_mean\",\"concavity_mean\",\"concavity_worst\"]]\n",
    "new_target=p[\"diagnosis\"]"
   ]
  },
  {
   "cell_type": "code",
   "execution_count": 7,
   "id": "2cd2a2c4",
   "metadata": {
    "execution": {
     "iopub.execute_input": "2024-12-23T20:44:19.272991Z",
     "iopub.status.busy": "2024-12-23T20:44:19.272662Z",
     "iopub.status.idle": "2024-12-23T20:44:19.279724Z",
     "shell.execute_reply": "2024-12-23T20:44:19.278666Z"
    },
    "papermill": {
     "duration": 0.013118,
     "end_time": "2024-12-23T20:44:19.281491",
     "exception": false,
     "start_time": "2024-12-23T20:44:19.268373",
     "status": "completed"
    },
    "tags": []
   },
   "outputs": [],
   "source": [
    "xtrain,xtest,ytrain,ytest = train_test_split(new_features.values,new_target,test_size=0.33)\n"
   ]
  },
  {
   "cell_type": "code",
   "execution_count": 8,
   "id": "7e8dfceb",
   "metadata": {
    "execution": {
     "iopub.execute_input": "2024-12-23T20:44:19.289159Z",
     "iopub.status.busy": "2024-12-23T20:44:19.288793Z",
     "iopub.status.idle": "2024-12-23T20:44:19.325215Z",
     "shell.execute_reply": "2024-12-23T20:44:19.323968Z"
    },
    "papermill": {
     "duration": 0.042265,
     "end_time": "2024-12-23T20:44:19.327105",
     "exception": false,
     "start_time": "2024-12-23T20:44:19.284840",
     "status": "completed"
    },
    "tags": []
   },
   "outputs": [
    {
     "data": {
      "text/html": [
       "<style>#sk-container-id-1 {color: black;background-color: white;}#sk-container-id-1 pre{padding: 0;}#sk-container-id-1 div.sk-toggleable {background-color: white;}#sk-container-id-1 label.sk-toggleable__label {cursor: pointer;display: block;width: 100%;margin-bottom: 0;padding: 0.3em;box-sizing: border-box;text-align: center;}#sk-container-id-1 label.sk-toggleable__label-arrow:before {content: \"▸\";float: left;margin-right: 0.25em;color: #696969;}#sk-container-id-1 label.sk-toggleable__label-arrow:hover:before {color: black;}#sk-container-id-1 div.sk-estimator:hover label.sk-toggleable__label-arrow:before {color: black;}#sk-container-id-1 div.sk-toggleable__content {max-height: 0;max-width: 0;overflow: hidden;text-align: left;background-color: #f0f8ff;}#sk-container-id-1 div.sk-toggleable__content pre {margin: 0.2em;color: black;border-radius: 0.25em;background-color: #f0f8ff;}#sk-container-id-1 input.sk-toggleable__control:checked~div.sk-toggleable__content {max-height: 200px;max-width: 100%;overflow: auto;}#sk-container-id-1 input.sk-toggleable__control:checked~label.sk-toggleable__label-arrow:before {content: \"▾\";}#sk-container-id-1 div.sk-estimator input.sk-toggleable__control:checked~label.sk-toggleable__label {background-color: #d4ebff;}#sk-container-id-1 div.sk-label input.sk-toggleable__control:checked~label.sk-toggleable__label {background-color: #d4ebff;}#sk-container-id-1 input.sk-hidden--visually {border: 0;clip: rect(1px 1px 1px 1px);clip: rect(1px, 1px, 1px, 1px);height: 1px;margin: -1px;overflow: hidden;padding: 0;position: absolute;width: 1px;}#sk-container-id-1 div.sk-estimator {font-family: monospace;background-color: #f0f8ff;border: 1px dotted black;border-radius: 0.25em;box-sizing: border-box;margin-bottom: 0.5em;}#sk-container-id-1 div.sk-estimator:hover {background-color: #d4ebff;}#sk-container-id-1 div.sk-parallel-item::after {content: \"\";width: 100%;border-bottom: 1px solid gray;flex-grow: 1;}#sk-container-id-1 div.sk-label:hover label.sk-toggleable__label {background-color: #d4ebff;}#sk-container-id-1 div.sk-serial::before {content: \"\";position: absolute;border-left: 1px solid gray;box-sizing: border-box;top: 0;bottom: 0;left: 50%;z-index: 0;}#sk-container-id-1 div.sk-serial {display: flex;flex-direction: column;align-items: center;background-color: white;padding-right: 0.2em;padding-left: 0.2em;position: relative;}#sk-container-id-1 div.sk-item {position: relative;z-index: 1;}#sk-container-id-1 div.sk-parallel {display: flex;align-items: stretch;justify-content: center;background-color: white;position: relative;}#sk-container-id-1 div.sk-item::before, #sk-container-id-1 div.sk-parallel-item::before {content: \"\";position: absolute;border-left: 1px solid gray;box-sizing: border-box;top: 0;bottom: 0;left: 50%;z-index: -1;}#sk-container-id-1 div.sk-parallel-item {display: flex;flex-direction: column;z-index: 1;position: relative;background-color: white;}#sk-container-id-1 div.sk-parallel-item:first-child::after {align-self: flex-end;width: 50%;}#sk-container-id-1 div.sk-parallel-item:last-child::after {align-self: flex-start;width: 50%;}#sk-container-id-1 div.sk-parallel-item:only-child::after {width: 0;}#sk-container-id-1 div.sk-dashed-wrapped {border: 1px dashed gray;margin: 0 0.4em 0.5em 0.4em;box-sizing: border-box;padding-bottom: 0.4em;background-color: white;}#sk-container-id-1 div.sk-label label {font-family: monospace;font-weight: bold;display: inline-block;line-height: 1.2em;}#sk-container-id-1 div.sk-label-container {text-align: center;}#sk-container-id-1 div.sk-container {/* jupyter's `normalize.less` sets `[hidden] { display: none; }` but bootstrap.min.css set `[hidden] { display: none !important; }` so we also need the `!important` here to be able to override the default hidden behavior on the sphinx rendered scikit-learn.org. See: https://github.com/scikit-learn/scikit-learn/issues/21755 */display: inline-block !important;position: relative;}#sk-container-id-1 div.sk-text-repr-fallback {display: none;}</style><div id=\"sk-container-id-1\" class=\"sk-top-container\"><div class=\"sk-text-repr-fallback\"><pre>LogisticRegression()</pre><b>In a Jupyter environment, please rerun this cell to show the HTML representation or trust the notebook. <br />On GitHub, the HTML representation is unable to render, please try loading this page with nbviewer.org.</b></div><div class=\"sk-container\" hidden><div class=\"sk-item\"><div class=\"sk-estimator sk-toggleable\"><input class=\"sk-toggleable__control sk-hidden--visually\" id=\"sk-estimator-id-1\" type=\"checkbox\" checked><label for=\"sk-estimator-id-1\" class=\"sk-toggleable__label sk-toggleable__label-arrow\">LogisticRegression</label><div class=\"sk-toggleable__content\"><pre>LogisticRegression()</pre></div></div></div></div></div>"
      ],
      "text/plain": [
       "LogisticRegression()"
      ]
     },
     "execution_count": 8,
     "metadata": {},
     "output_type": "execute_result"
    }
   ],
   "source": [
    "log_reg=LogisticRegression()\n",
    "log_reg.fit(xtrain,ytrain)"
   ]
  },
  {
   "cell_type": "code",
   "execution_count": 9,
   "id": "08a98c6c",
   "metadata": {
    "execution": {
     "iopub.execute_input": "2024-12-23T20:44:19.335635Z",
     "iopub.status.busy": "2024-12-23T20:44:19.335201Z",
     "iopub.status.idle": "2024-12-23T20:44:19.342069Z",
     "shell.execute_reply": "2024-12-23T20:44:19.340920Z"
    },
    "papermill": {
     "duration": 0.013256,
     "end_time": "2024-12-23T20:44:19.343996",
     "exception": false,
     "start_time": "2024-12-23T20:44:19.330740",
     "status": "completed"
    },
    "tags": []
   },
   "outputs": [],
   "source": [
    "ypred=log_reg.predict(xtest)\n",
    "accuracy=accuracy_score(ytest,ypred)"
   ]
  },
  {
   "cell_type": "code",
   "execution_count": 10,
   "id": "0dc19845",
   "metadata": {
    "execution": {
     "iopub.execute_input": "2024-12-23T20:44:19.352987Z",
     "iopub.status.busy": "2024-12-23T20:44:19.352531Z",
     "iopub.status.idle": "2024-12-23T20:44:19.361593Z",
     "shell.execute_reply": "2024-12-23T20:44:19.360251Z"
    },
    "papermill": {
     "duration": 0.015646,
     "end_time": "2024-12-23T20:44:19.363318",
     "exception": false,
     "start_time": "2024-12-23T20:44:19.347672",
     "status": "completed"
    },
    "tags": []
   },
   "outputs": [
    {
     "name": "stdout",
     "output_type": "stream",
     "text": [
      "Accuracy: 0.9042553191489362\n",
      "Confusion Matrix:\n",
      "[[105   4]\n",
      " [ 14  65]]\n"
     ]
    }
   ],
   "source": [
    "print(\"Accuracy:\", accuracy)\n",
    "print(\"Confusion Matrix:\")\n",
    "print(confusion_matrix(ytest, ypred))\n"
   ]
  },
  {
   "cell_type": "markdown",
   "id": "05167ebf",
   "metadata": {
    "papermill": {
     "duration": 0.003446,
     "end_time": "2024-12-23T20:44:19.370852",
     "exception": false,
     "start_time": "2024-12-23T20:44:19.367406",
     "status": "completed"
    },
    "tags": []
   },
   "source": [
    "\n",
    "## Model Performance\n",
    "The following metrics were calculated to evaluate the performance of the model on the test set:\n",
    "\n",
    "- **Accuracy**: 0.9468 (approximately 94.68%)\n",
    "\n",
    "## Confusion Matrix\n",
    "The confusion matrix below provides a detailed breakdown of the model's predictions:\n",
    "\n",
    "|               | Predicted: 0 | Predicted: 1 |\n",
    "|---------------|--------------|--------------|\n",
    "| **Actual: 0** | 109          | 2            |\n",
    "| **Actual: 1** | 8            | 69           |\n",
    "\n",
    "## Observations\n",
    "1. The model achieved a high accuracy of **94.68%**, indicating excellent performance on the test dataset.\n",
    "2. The confusion matrix shows:\n",
    "   - 109 true negatives and 69 true positives.\n",
    "   - Only 2 false positives and 8 false negatives.\n",
    "3. These results suggest that the model is effective at distinguishing between the two classes.\n"
   ]
  }
 ],
 "metadata": {
  "kaggle": {
   "accelerator": "none",
   "dataSources": [
    {
     "datasetId": 1829286,
     "sourceId": 2984728,
     "sourceType": "datasetVersion"
    }
   ],
   "dockerImageVersionId": 30822,
   "isGpuEnabled": false,
   "isInternetEnabled": false,
   "language": "python",
   "sourceType": "notebook"
  },
  "kernelspec": {
   "display_name": "Python 3",
   "language": "python",
   "name": "python3"
  },
  "language_info": {
   "codemirror_mode": {
    "name": "ipython",
    "version": 3
   },
   "file_extension": ".py",
   "mimetype": "text/x-python",
   "name": "python",
   "nbconvert_exporter": "python",
   "pygments_lexer": "ipython3",
   "version": "3.10.12"
  },
  "papermill": {
   "default_parameters": {},
   "duration": 5.032717,
   "end_time": "2024-12-23T20:44:19.996258",
   "environment_variables": {},
   "exception": null,
   "input_path": "__notebook__.ipynb",
   "output_path": "__notebook__.ipynb",
   "parameters": {},
   "start_time": "2024-12-23T20:44:14.963541",
   "version": "2.6.0"
  }
 },
 "nbformat": 4,
 "nbformat_minor": 5
}
