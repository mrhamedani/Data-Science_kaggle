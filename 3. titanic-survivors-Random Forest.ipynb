{
 "cells": [
  {
   "cell_type": "code",
   "execution_count": 1,
   "id": "6ae7515f",
   "metadata": {
    "_cell_guid": "b1076dfc-b9ad-4769-8c92-a6c4dae69d19",
    "_uuid": "8f2839f25d086af736a60e9eeb907d3b93b6e0e5",
    "execution": {
     "iopub.execute_input": "2024-12-31T10:33:48.936908Z",
     "iopub.status.busy": "2024-12-31T10:33:48.936567Z",
     "iopub.status.idle": "2024-12-31T10:33:51.172816Z",
     "shell.execute_reply": "2024-12-31T10:33:51.171722Z"
    },
    "papermill": {
     "duration": 2.243528,
     "end_time": "2024-12-31T10:33:51.174843",
     "exception": false,
     "start_time": "2024-12-31T10:33:48.931315",
     "status": "completed"
    },
    "tags": []
   },
   "outputs": [],
   "source": [
    "import numpy as np\n",
    "import pandas as pd\n",
    "from sklearn.model_selection import train_test_split\n",
    "from sklearn.metrics import accuracy_score\n",
    "from sklearn.ensemble import RandomForestClassifier\n"
   ]
  },
  {
   "cell_type": "code",
   "execution_count": 2,
   "id": "951a5e07",
   "metadata": {
    "execution": {
     "iopub.execute_input": "2024-12-31T10:33:51.183210Z",
     "iopub.status.busy": "2024-12-31T10:33:51.182655Z",
     "iopub.status.idle": "2024-12-31T10:33:51.265543Z",
     "shell.execute_reply": "2024-12-31T10:33:51.263867Z"
    },
    "papermill": {
     "duration": 0.089098,
     "end_time": "2024-12-31T10:33:51.267600",
     "exception": false,
     "start_time": "2024-12-31T10:33:51.178502",
     "status": "completed"
    },
    "tags": []
   },
   "outputs": [
    {
     "name": "stdout",
     "output_type": "stream",
     "text": [
      "<class 'pandas.core.frame.DataFrame'>\n",
      "RangeIndex: 891 entries, 0 to 890\n",
      "Data columns (total 12 columns):\n",
      " #   Column       Non-Null Count  Dtype  \n",
      "---  ------       --------------  -----  \n",
      " 0   PassengerId  891 non-null    int64  \n",
      " 1   Survived     891 non-null    int64  \n",
      " 2   Pclass       891 non-null    int64  \n",
      " 3   Name         891 non-null    object \n",
      " 4   Sex          891 non-null    object \n",
      " 5   Age          714 non-null    float64\n",
      " 6   SibSp        891 non-null    int64  \n",
      " 7   Parch        891 non-null    int64  \n",
      " 8   Ticket       891 non-null    object \n",
      " 9   Fare         891 non-null    float64\n",
      " 10  Cabin        204 non-null    object \n",
      " 11  Embarked     889 non-null    object \n",
      "dtypes: float64(2), int64(5), object(5)\n",
      "memory usage: 83.7+ KB\n",
      "None\n",
      "       PassengerId    Survived      Pclass         Age       SibSp  \\\n",
      "count   891.000000  891.000000  891.000000  714.000000  891.000000   \n",
      "mean    446.000000    0.383838    2.308642   29.699118    0.523008   \n",
      "std     257.353842    0.486592    0.836071   14.526497    1.102743   \n",
      "min       1.000000    0.000000    1.000000    0.420000    0.000000   \n",
      "25%     223.500000    0.000000    2.000000   20.125000    0.000000   \n",
      "50%     446.000000    0.000000    3.000000   28.000000    0.000000   \n",
      "75%     668.500000    1.000000    3.000000   38.000000    1.000000   \n",
      "max     891.000000    1.000000    3.000000   80.000000    8.000000   \n",
      "\n",
      "            Parch        Fare  \n",
      "count  891.000000  891.000000  \n",
      "mean     0.381594   32.204208  \n",
      "std      0.806057   49.693429  \n",
      "min      0.000000    0.000000  \n",
      "25%      0.000000    7.910400  \n",
      "50%      0.000000   14.454200  \n",
      "75%      0.000000   31.000000  \n",
      "max      6.000000  512.329200  \n",
      "   PassengerId  Survived  Pclass  \\\n",
      "0            1         0       3   \n",
      "1            2         1       1   \n",
      "2            3         1       3   \n",
      "3            4         1       1   \n",
      "4            5         0       3   \n",
      "\n",
      "                                                Name     Sex   Age  SibSp  \\\n",
      "0                            Braund, Mr. Owen Harris    male  22.0      1   \n",
      "1  Cumings, Mrs. John Bradley (Florence Briggs Th...  female  38.0      1   \n",
      "2                             Heikkinen, Miss. Laina  female  26.0      0   \n",
      "3       Futrelle, Mrs. Jacques Heath (Lily May Peel)  female  35.0      1   \n",
      "4                           Allen, Mr. William Henry    male  35.0      0   \n",
      "\n",
      "   Parch            Ticket     Fare Cabin Embarked  \n",
      "0      0         A/5 21171   7.2500   NaN        S  \n",
      "1      0          PC 17599  71.2833   C85        C  \n",
      "2      0  STON/O2. 3101282   7.9250   NaN        S  \n",
      "3      0            113803  53.1000  C123        S  \n",
      "4      0            373450   8.0500   NaN        S  \n"
     ]
    }
   ],
   "source": [
    "# Load the data\n",
    "train = pd.read_csv('/kaggle/input/titanic/train.csv')\n",
    "test = pd.read_csv('/kaggle/input/titanic/test.csv')\n",
    "\n",
    "# View data\n",
    "print(train.info())\n",
    "print(train.describe())\n",
    "print(train.head())"
   ]
  },
  {
   "cell_type": "code",
   "execution_count": 3,
   "id": "93afa4e4",
   "metadata": {
    "execution": {
     "iopub.execute_input": "2024-12-31T10:33:51.276030Z",
     "iopub.status.busy": "2024-12-31T10:33:51.275689Z",
     "iopub.status.idle": "2024-12-31T10:33:51.290110Z",
     "shell.execute_reply": "2024-12-31T10:33:51.288902Z"
    },
    "papermill": {
     "duration": 0.020557,
     "end_time": "2024-12-31T10:33:51.292113",
     "exception": false,
     "start_time": "2024-12-31T10:33:51.271556",
     "status": "completed"
    },
    "tags": []
   },
   "outputs": [
    {
     "name": "stdout",
     "output_type": "stream",
     "text": [
      "PassengerId      0\n",
      "Survived         0\n",
      "Pclass           0\n",
      "Name             0\n",
      "Sex              0\n",
      "Age            177\n",
      "SibSp            0\n",
      "Parch            0\n",
      "Ticket           0\n",
      "Fare             0\n",
      "Cabin          687\n",
      "Embarked         2\n",
      "dtype: int64\n"
     ]
    }
   ],
   "source": [
    "# Check missing values\n",
    "print(train.isnull().sum())\n",
    "\n",
    "# Fill missing values\n",
    "train['Age'].fillna(train['Age'].median(), inplace=True)\n",
    "train['Embarked'].fillna(train['Embarked'].mode()[0], inplace=True)\n",
    "test['Age'].fillna(test['Age'].median(), inplace=True)\n",
    "test['Fare'].fillna(test['Fare'].median(), inplace=True)\n"
   ]
  },
  {
   "cell_type": "code",
   "execution_count": 4,
   "id": "e8605221",
   "metadata": {
    "execution": {
     "iopub.execute_input": "2024-12-31T10:33:51.300629Z",
     "iopub.status.busy": "2024-12-31T10:33:51.300284Z",
     "iopub.status.idle": "2024-12-31T10:33:51.309812Z",
     "shell.execute_reply": "2024-12-31T10:33:51.308827Z"
    },
    "papermill": {
     "duration": 0.015839,
     "end_time": "2024-12-31T10:33:51.311635",
     "exception": false,
     "start_time": "2024-12-31T10:33:51.295796",
     "status": "completed"
    },
    "tags": []
   },
   "outputs": [],
   "source": [
    "# Convert categorical features to numeric\n",
    "train['Sex'] = train['Sex'].map({'male': 0, 'female': 1})\n",
    "test['Sex'] = test['Sex'].map({'male': 0, 'female': 1})\n",
    "\n",
    "train['Embarked'] = train['Embarked'].map({'C': 0, 'Q': 1, 'S': 2})\n",
    "test['Embarked'] = test['Embarked'].map({'C': 0, 'Q': 1, 'S': 2})"
   ]
  },
  {
   "cell_type": "code",
   "execution_count": 5,
   "id": "1efc7631",
   "metadata": {
    "execution": {
     "iopub.execute_input": "2024-12-31T10:33:51.319890Z",
     "iopub.status.busy": "2024-12-31T10:33:51.319551Z",
     "iopub.status.idle": "2024-12-31T10:33:51.327996Z",
     "shell.execute_reply": "2024-12-31T10:33:51.326693Z"
    },
    "papermill": {
     "duration": 0.014609,
     "end_time": "2024-12-31T10:33:51.329868",
     "exception": false,
     "start_time": "2024-12-31T10:33:51.315259",
     "status": "completed"
    },
    "tags": []
   },
   "outputs": [],
   "source": [
    "# Create new feature 'FamilySize'\n",
    "train['FamilySize'] = train['SibSp'] + train['Parch'] + 1\n",
    "test['FamilySize'] = test['SibSp'] + test['Parch'] + 1\n",
    "\n",
    "# Create binary feature 'IsAlone'\n",
    "train['IsAlone'] = (train['FamilySize'] == 1).astype(int)\n",
    "test['IsAlone'] = (test['FamilySize'] == 1).astype(int)\n"
   ]
  },
  {
   "cell_type": "code",
   "execution_count": 6,
   "id": "0034757e",
   "metadata": {
    "execution": {
     "iopub.execute_input": "2024-12-31T10:33:51.338026Z",
     "iopub.status.busy": "2024-12-31T10:33:51.337655Z",
     "iopub.status.idle": "2024-12-31T10:33:51.346322Z",
     "shell.execute_reply": "2024-12-31T10:33:51.345035Z"
    },
    "papermill": {
     "duration": 0.014819,
     "end_time": "2024-12-31T10:33:51.348132",
     "exception": false,
     "start_time": "2024-12-31T10:33:51.333313",
     "status": "completed"
    },
    "tags": []
   },
   "outputs": [],
   "source": [
    "# Remove unnecessary features\n",
    "drop_columns = ['PassengerId', 'Name', 'Ticket', 'Cabin']\n",
    "train = train.drop(columns=drop_columns)\n",
    "test = test.drop(columns=drop_columns)\n"
   ]
  },
  {
   "cell_type": "code",
   "execution_count": 7,
   "id": "b8b87f46",
   "metadata": {
    "execution": {
     "iopub.execute_input": "2024-12-31T10:33:51.356191Z",
     "iopub.status.busy": "2024-12-31T10:33:51.355755Z",
     "iopub.status.idle": "2024-12-31T10:33:51.365911Z",
     "shell.execute_reply": "2024-12-31T10:33:51.364700Z"
    },
    "papermill": {
     "duration": 0.016594,
     "end_time": "2024-12-31T10:33:51.368068",
     "exception": false,
     "start_time": "2024-12-31T10:33:51.351474",
     "status": "completed"
    },
    "tags": []
   },
   "outputs": [],
   "source": [
    "# Define features and target\n",
    "X = train.drop('Survived', axis=1)\n",
    "y = train['Survived']\n",
    "\n",
    "X_train, X_val, y_train, y_val = train_test_split(X, y, test_size=0.2, random_state=42)"
   ]
  },
  {
   "cell_type": "code",
   "execution_count": 8,
   "id": "7e16704c",
   "metadata": {
    "execution": {
     "iopub.execute_input": "2024-12-31T10:33:51.376271Z",
     "iopub.status.busy": "2024-12-31T10:33:51.375881Z",
     "iopub.status.idle": "2024-12-31T10:33:51.596196Z",
     "shell.execute_reply": "2024-12-31T10:33:51.595061Z"
    },
    "papermill": {
     "duration": 0.226643,
     "end_time": "2024-12-31T10:33:51.598198",
     "exception": false,
     "start_time": "2024-12-31T10:33:51.371555",
     "status": "completed"
    },
    "tags": []
   },
   "outputs": [
    {
     "name": "stdout",
     "output_type": "stream",
     "text": [
      "Validation Accuracy: 0.8156424581005587\n"
     ]
    }
   ],
   "source": [
    "# Train Random Forest model\n",
    "model = RandomForestClassifier(n_estimators=100, random_state=42)\n",
    "model.fit(X_train, y_train)\n",
    "\n",
    "# Validate the model\n",
    "y_pred = model.predict(X_val)\n",
    "accuracy = accuracy_score(y_val, y_pred)\n",
    "print(\"Validation Accuracy:\", accuracy)"
   ]
  },
  {
   "cell_type": "code",
   "execution_count": 9,
   "id": "054971f8",
   "metadata": {
    "execution": {
     "iopub.execute_input": "2024-12-31T10:33:51.606742Z",
     "iopub.status.busy": "2024-12-31T10:33:51.606402Z",
     "iopub.status.idle": "2024-12-31T10:33:51.623970Z",
     "shell.execute_reply": "2024-12-31T10:33:51.622673Z"
    },
    "papermill": {
     "duration": 0.02399,
     "end_time": "2024-12-31T10:33:51.625802",
     "exception": false,
     "start_time": "2024-12-31T10:33:51.601812",
     "status": "completed"
    },
    "tags": []
   },
   "outputs": [
    {
     "name": "stdout",
     "output_type": "stream",
     "text": [
      "Validation Accuracy: 0.8156424581005587\n"
     ]
    }
   ],
   "source": [
    "\n",
    "# Validate the model\n",
    "y_pred = model.predict(X_val)\n",
    "accuracy = accuracy_score(y_val, y_pred)\n",
    "print(\"Validation Accuracy:\", accuracy)\n"
   ]
  },
  {
   "cell_type": "code",
   "execution_count": 10,
   "id": "978d291a",
   "metadata": {
    "execution": {
     "iopub.execute_input": "2024-12-31T10:33:51.634150Z",
     "iopub.status.busy": "2024-12-31T10:33:51.633741Z",
     "iopub.status.idle": "2024-12-31T10:33:51.652397Z",
     "shell.execute_reply": "2024-12-31T10:33:51.651350Z"
    },
    "papermill": {
     "duration": 0.025053,
     "end_time": "2024-12-31T10:33:51.654478",
     "exception": false,
     "start_time": "2024-12-31T10:33:51.629425",
     "status": "completed"
    },
    "tags": []
   },
   "outputs": [],
   "source": [
    "\n",
    "# Predict on test data\n",
    "test_predictions = model.predict(test)\n"
   ]
  },
  {
   "cell_type": "code",
   "execution_count": 11,
   "id": "a56bc7ea",
   "metadata": {
    "execution": {
     "iopub.execute_input": "2024-12-31T10:33:51.662826Z",
     "iopub.status.busy": "2024-12-31T10:33:51.662491Z",
     "iopub.status.idle": "2024-12-31T10:33:51.675805Z",
     "shell.execute_reply": "2024-12-31T10:33:51.674594Z"
    },
    "papermill": {
     "duration": 0.019697,
     "end_time": "2024-12-31T10:33:51.677819",
     "exception": false,
     "start_time": "2024-12-31T10:33:51.658122",
     "status": "completed"
    },
    "tags": []
   },
   "outputs": [
    {
     "name": "stdout",
     "output_type": "stream",
     "text": [
      "Submission file created!\n"
     ]
    }
   ],
   "source": [
    "# Create submission file\n",
    "output = pd.DataFrame({'PassengerId': pd.read_csv('/kaggle/input/titanic/test.csv')['PassengerId'], \n",
    "                       'Survived': test_predictions})\n",
    "output.to_csv('submission.csv', index=False)\n",
    "print(\"Submission file created!\")"
   ]
  }
 ],
 "metadata": {
  "kaggle": {
   "accelerator": "none",
   "dataSources": [
    {
     "databundleVersionId": 26502,
     "sourceId": 3136,
     "sourceType": "competition"
    }
   ],
   "dockerImageVersionId": 30822,
   "isGpuEnabled": false,
   "isInternetEnabled": false,
   "language": "python",
   "sourceType": "notebook"
  },
  "kernelspec": {
   "display_name": "Python 3",
   "language": "python",
   "name": "python3"
  },
  "language_info": {
   "codemirror_mode": {
    "name": "ipython",
    "version": 3
   },
   "file_extension": ".py",
   "mimetype": "text/x-python",
   "name": "python",
   "nbconvert_exporter": "python",
   "pygments_lexer": "ipython3",
   "version": "3.10.12"
  },
  "papermill": {
   "default_parameters": {},
   "duration": 5.695498,
   "end_time": "2024-12-31T10:33:52.402513",
   "environment_variables": {},
   "exception": null,
   "input_path": "__notebook__.ipynb",
   "output_path": "__notebook__.ipynb",
   "parameters": {},
   "start_time": "2024-12-31T10:33:46.707015",
   "version": "2.6.0"
  }
 },
 "nbformat": 4,
 "nbformat_minor": 5
}
